{
  "nbformat": 4,
  "nbformat_minor": 0,
  "metadata": {
    "colab": {
      "provenance": [],
      "include_colab_link": true
    },
    "kernelspec": {
      "name": "python3",
      "display_name": "Python 3"
    },
    "language_info": {
      "name": "python"
    }
  },
  "cells": [
    {
      "cell_type": "markdown",
      "metadata": {
        "id": "view-in-github",
        "colab_type": "text"
      },
      "source": [
        "<a href=\"https://colab.research.google.com/github/ElsaMolina/Cursos_EstadisticasConPython/blob/main/Clasificacion_validacion_y_metricas.ipynb\" target=\"_parent\"><img src=\"https://colab.research.google.com/assets/colab-badge.svg\" alt=\"Open In Colab\"/></a>"
      ]
    },
    {
      "cell_type": "markdown",
      "source": [
        "# <font color='dark'>**Clasificación: Validación de modelos y métricas de evaluación**</h1>"
      ],
      "metadata": {
        "id": "MCqTDybk4ShK"
      }
    },
    {
      "cell_type": "markdown",
      "source": [
        "### Proyecto\n",
        "\n",
        "Una empresa de financiamiento de automóviles está atravesando una situación complicada, con una alta demanda para una flota reducida de vehículos y un alto número de morosos, lo que está generando grandes pérdidas para la empresa.\n",
        "\n",
        "Nosotros fuimos contratados para buscar mejoras en la identificación de morosos. El análisis de los clientes actualmente se realiza de forma manual, cliente por cliente, lo que consume mucho tiempo y, aun así, la detección de morosos es muy imprecisa.\n",
        "\n",
        "Nuestra tarea es utilizar los datos proporcionados por la empresa para **clasificar** a los clientes en cumplidores y morosos."
      ],
      "metadata": {
        "id": "WscU3KG7a9No"
      }
    },
    {
      "cell_type": "markdown",
      "source": [
        "## <font color='dark'>Clasificando los datos</h1>"
      ],
      "metadata": {
        "id": "WgS8iF51Csrn"
      }
    },
    {
      "cell_type": "markdown",
      "source": [
        "### Creando un modelo inicial"
      ],
      "metadata": {
        "id": "6lExmBuKn-xe"
      }
    },
    {
      "cell_type": "code",
      "source": [
        "import pandas as pd"
      ],
      "metadata": {
        "id": "ANJDC3LqP43q"
      },
      "execution_count": null,
      "outputs": []
    },
    {
      "cell_type": "code",
      "source": [
        "datos =pd.read_csv('/content/prestacar.csv')"
      ],
      "metadata": {
        "id": "UPddns6dP4kt"
      },
      "execution_count": null,
      "outputs": []
    },
    {
      "cell_type": "code",
      "source": [
        "datos.head()"
      ],
      "metadata": {
        "id": "UVIX6QLpP4iC",
        "colab": {
          "base_uri": "https://localhost:8080/",
          "height": 226
        },
        "outputId": "0bd2162b-8312-49b2-de60-9e36a91fa8c1"
      },
      "execution_count": null,
      "outputs": [
        {
          "output_type": "execute_result",
          "data": {
            "text/plain": [
              "   ingresos_cliente  anualidad_prestamo  años_casa_propia  telefono_trab  \\\n",
              "0           12600.0         3569.400000         12.157324              1   \n",
              "1            9000.0         2722.188351          7.000000              0   \n",
              "2           15750.0         4477.500000         12.000000              0   \n",
              "3            9000.0         1309.050000         12.157324              0   \n",
              "4            7650.0         1125.000000         12.157324              0   \n",
              "\n",
              "   evaluacion_ciudad   score_1   score_2   score_3  score_social  \\\n",
              "0                2.0  0.057153  0.527227  0.513171      0.117428   \n",
              "1                2.0  0.657661  0.285898  0.614414      0.222700   \n",
              "2                2.0  0.501213  0.695423  0.513171      0.117428   \n",
              "3                3.0  0.501213  0.155973  0.513171      0.117428   \n",
              "4                2.0  0.294328  0.152076  0.513171      0.117428   \n",
              "\n",
              "   cambio_telefono  moroso  \n",
              "0           2545.0       0  \n",
              "1            495.0       0  \n",
              "2           1212.0       0  \n",
              "3            515.0       0  \n",
              "4            162.0       0  "
            ],
            "text/html": [
              "\n",
              "  <div id=\"df-f78b3627-d960-42a6-be7d-d06501556746\" class=\"colab-df-container\">\n",
              "    <div>\n",
              "<style scoped>\n",
              "    .dataframe tbody tr th:only-of-type {\n",
              "        vertical-align: middle;\n",
              "    }\n",
              "\n",
              "    .dataframe tbody tr th {\n",
              "        vertical-align: top;\n",
              "    }\n",
              "\n",
              "    .dataframe thead th {\n",
              "        text-align: right;\n",
              "    }\n",
              "</style>\n",
              "<table border=\"1\" class=\"dataframe\">\n",
              "  <thead>\n",
              "    <tr style=\"text-align: right;\">\n",
              "      <th></th>\n",
              "      <th>ingresos_cliente</th>\n",
              "      <th>anualidad_prestamo</th>\n",
              "      <th>años_casa_propia</th>\n",
              "      <th>telefono_trab</th>\n",
              "      <th>evaluacion_ciudad</th>\n",
              "      <th>score_1</th>\n",
              "      <th>score_2</th>\n",
              "      <th>score_3</th>\n",
              "      <th>score_social</th>\n",
              "      <th>cambio_telefono</th>\n",
              "      <th>moroso</th>\n",
              "    </tr>\n",
              "  </thead>\n",
              "  <tbody>\n",
              "    <tr>\n",
              "      <th>0</th>\n",
              "      <td>12600.0</td>\n",
              "      <td>3569.400000</td>\n",
              "      <td>12.157324</td>\n",
              "      <td>1</td>\n",
              "      <td>2.0</td>\n",
              "      <td>0.057153</td>\n",
              "      <td>0.527227</td>\n",
              "      <td>0.513171</td>\n",
              "      <td>0.117428</td>\n",
              "      <td>2545.0</td>\n",
              "      <td>0</td>\n",
              "    </tr>\n",
              "    <tr>\n",
              "      <th>1</th>\n",
              "      <td>9000.0</td>\n",
              "      <td>2722.188351</td>\n",
              "      <td>7.000000</td>\n",
              "      <td>0</td>\n",
              "      <td>2.0</td>\n",
              "      <td>0.657661</td>\n",
              "      <td>0.285898</td>\n",
              "      <td>0.614414</td>\n",
              "      <td>0.222700</td>\n",
              "      <td>495.0</td>\n",
              "      <td>0</td>\n",
              "    </tr>\n",
              "    <tr>\n",
              "      <th>2</th>\n",
              "      <td>15750.0</td>\n",
              "      <td>4477.500000</td>\n",
              "      <td>12.000000</td>\n",
              "      <td>0</td>\n",
              "      <td>2.0</td>\n",
              "      <td>0.501213</td>\n",
              "      <td>0.695423</td>\n",
              "      <td>0.513171</td>\n",
              "      <td>0.117428</td>\n",
              "      <td>1212.0</td>\n",
              "      <td>0</td>\n",
              "    </tr>\n",
              "    <tr>\n",
              "      <th>3</th>\n",
              "      <td>9000.0</td>\n",
              "      <td>1309.050000</td>\n",
              "      <td>12.157324</td>\n",
              "      <td>0</td>\n",
              "      <td>3.0</td>\n",
              "      <td>0.501213</td>\n",
              "      <td>0.155973</td>\n",
              "      <td>0.513171</td>\n",
              "      <td>0.117428</td>\n",
              "      <td>515.0</td>\n",
              "      <td>0</td>\n",
              "    </tr>\n",
              "    <tr>\n",
              "      <th>4</th>\n",
              "      <td>7650.0</td>\n",
              "      <td>1125.000000</td>\n",
              "      <td>12.157324</td>\n",
              "      <td>0</td>\n",
              "      <td>2.0</td>\n",
              "      <td>0.294328</td>\n",
              "      <td>0.152076</td>\n",
              "      <td>0.513171</td>\n",
              "      <td>0.117428</td>\n",
              "      <td>162.0</td>\n",
              "      <td>0</td>\n",
              "    </tr>\n",
              "  </tbody>\n",
              "</table>\n",
              "</div>\n",
              "    <div class=\"colab-df-buttons\">\n",
              "\n",
              "  <div class=\"colab-df-container\">\n",
              "    <button class=\"colab-df-convert\" onclick=\"convertToInteractive('df-f78b3627-d960-42a6-be7d-d06501556746')\"\n",
              "            title=\"Convert this dataframe to an interactive table.\"\n",
              "            style=\"display:none;\">\n",
              "\n",
              "  <svg xmlns=\"http://www.w3.org/2000/svg\" height=\"24px\" viewBox=\"0 -960 960 960\">\n",
              "    <path d=\"M120-120v-720h720v720H120Zm60-500h600v-160H180v160Zm220 220h160v-160H400v160Zm0 220h160v-160H400v160ZM180-400h160v-160H180v160Zm440 0h160v-160H620v160ZM180-180h160v-160H180v160Zm440 0h160v-160H620v160Z\"/>\n",
              "  </svg>\n",
              "    </button>\n",
              "\n",
              "  <style>\n",
              "    .colab-df-container {\n",
              "      display:flex;\n",
              "      gap: 12px;\n",
              "    }\n",
              "\n",
              "    .colab-df-convert {\n",
              "      background-color: #E8F0FE;\n",
              "      border: none;\n",
              "      border-radius: 50%;\n",
              "      cursor: pointer;\n",
              "      display: none;\n",
              "      fill: #1967D2;\n",
              "      height: 32px;\n",
              "      padding: 0 0 0 0;\n",
              "      width: 32px;\n",
              "    }\n",
              "\n",
              "    .colab-df-convert:hover {\n",
              "      background-color: #E2EBFA;\n",
              "      box-shadow: 0px 1px 2px rgba(60, 64, 67, 0.3), 0px 1px 3px 1px rgba(60, 64, 67, 0.15);\n",
              "      fill: #174EA6;\n",
              "    }\n",
              "\n",
              "    .colab-df-buttons div {\n",
              "      margin-bottom: 4px;\n",
              "    }\n",
              "\n",
              "    [theme=dark] .colab-df-convert {\n",
              "      background-color: #3B4455;\n",
              "      fill: #D2E3FC;\n",
              "    }\n",
              "\n",
              "    [theme=dark] .colab-df-convert:hover {\n",
              "      background-color: #434B5C;\n",
              "      box-shadow: 0px 1px 3px 1px rgba(0, 0, 0, 0.15);\n",
              "      filter: drop-shadow(0px 1px 2px rgba(0, 0, 0, 0.3));\n",
              "      fill: #FFFFFF;\n",
              "    }\n",
              "  </style>\n",
              "\n",
              "    <script>\n",
              "      const buttonEl =\n",
              "        document.querySelector('#df-f78b3627-d960-42a6-be7d-d06501556746 button.colab-df-convert');\n",
              "      buttonEl.style.display =\n",
              "        google.colab.kernel.accessAllowed ? 'block' : 'none';\n",
              "\n",
              "      async function convertToInteractive(key) {\n",
              "        const element = document.querySelector('#df-f78b3627-d960-42a6-be7d-d06501556746');\n",
              "        const dataTable =\n",
              "          await google.colab.kernel.invokeFunction('convertToInteractive',\n",
              "                                                    [key], {});\n",
              "        if (!dataTable) return;\n",
              "\n",
              "        const docLinkHtml = 'Like what you see? Visit the ' +\n",
              "          '<a target=\"_blank\" href=https://colab.research.google.com/notebooks/data_table.ipynb>data table notebook</a>'\n",
              "          + ' to learn more about interactive tables.';\n",
              "        element.innerHTML = '';\n",
              "        dataTable['output_type'] = 'display_data';\n",
              "        await google.colab.output.renderOutput(dataTable, element);\n",
              "        const docLink = document.createElement('div');\n",
              "        docLink.innerHTML = docLinkHtml;\n",
              "        element.appendChild(docLink);\n",
              "      }\n",
              "    </script>\n",
              "  </div>\n",
              "\n",
              "\n",
              "    <div id=\"df-4510e32c-0148-4ab3-8a02-763e070e2d83\">\n",
              "      <button class=\"colab-df-quickchart\" onclick=\"quickchart('df-4510e32c-0148-4ab3-8a02-763e070e2d83')\"\n",
              "                title=\"Suggest charts\"\n",
              "                style=\"display:none;\">\n",
              "\n",
              "<svg xmlns=\"http://www.w3.org/2000/svg\" height=\"24px\"viewBox=\"0 0 24 24\"\n",
              "     width=\"24px\">\n",
              "    <g>\n",
              "        <path d=\"M19 3H5c-1.1 0-2 .9-2 2v14c0 1.1.9 2 2 2h14c1.1 0 2-.9 2-2V5c0-1.1-.9-2-2-2zM9 17H7v-7h2v7zm4 0h-2V7h2v10zm4 0h-2v-4h2v4z\"/>\n",
              "    </g>\n",
              "</svg>\n",
              "      </button>\n",
              "\n",
              "<style>\n",
              "  .colab-df-quickchart {\n",
              "      --bg-color: #E8F0FE;\n",
              "      --fill-color: #1967D2;\n",
              "      --hover-bg-color: #E2EBFA;\n",
              "      --hover-fill-color: #174EA6;\n",
              "      --disabled-fill-color: #AAA;\n",
              "      --disabled-bg-color: #DDD;\n",
              "  }\n",
              "\n",
              "  [theme=dark] .colab-df-quickchart {\n",
              "      --bg-color: #3B4455;\n",
              "      --fill-color: #D2E3FC;\n",
              "      --hover-bg-color: #434B5C;\n",
              "      --hover-fill-color: #FFFFFF;\n",
              "      --disabled-bg-color: #3B4455;\n",
              "      --disabled-fill-color: #666;\n",
              "  }\n",
              "\n",
              "  .colab-df-quickchart {\n",
              "    background-color: var(--bg-color);\n",
              "    border: none;\n",
              "    border-radius: 50%;\n",
              "    cursor: pointer;\n",
              "    display: none;\n",
              "    fill: var(--fill-color);\n",
              "    height: 32px;\n",
              "    padding: 0;\n",
              "    width: 32px;\n",
              "  }\n",
              "\n",
              "  .colab-df-quickchart:hover {\n",
              "    background-color: var(--hover-bg-color);\n",
              "    box-shadow: 0 1px 2px rgba(60, 64, 67, 0.3), 0 1px 3px 1px rgba(60, 64, 67, 0.15);\n",
              "    fill: var(--button-hover-fill-color);\n",
              "  }\n",
              "\n",
              "  .colab-df-quickchart-complete:disabled,\n",
              "  .colab-df-quickchart-complete:disabled:hover {\n",
              "    background-color: var(--disabled-bg-color);\n",
              "    fill: var(--disabled-fill-color);\n",
              "    box-shadow: none;\n",
              "  }\n",
              "\n",
              "  .colab-df-spinner {\n",
              "    border: 2px solid var(--fill-color);\n",
              "    border-color: transparent;\n",
              "    border-bottom-color: var(--fill-color);\n",
              "    animation:\n",
              "      spin 1s steps(1) infinite;\n",
              "  }\n",
              "\n",
              "  @keyframes spin {\n",
              "    0% {\n",
              "      border-color: transparent;\n",
              "      border-bottom-color: var(--fill-color);\n",
              "      border-left-color: var(--fill-color);\n",
              "    }\n",
              "    20% {\n",
              "      border-color: transparent;\n",
              "      border-left-color: var(--fill-color);\n",
              "      border-top-color: var(--fill-color);\n",
              "    }\n",
              "    30% {\n",
              "      border-color: transparent;\n",
              "      border-left-color: var(--fill-color);\n",
              "      border-top-color: var(--fill-color);\n",
              "      border-right-color: var(--fill-color);\n",
              "    }\n",
              "    40% {\n",
              "      border-color: transparent;\n",
              "      border-right-color: var(--fill-color);\n",
              "      border-top-color: var(--fill-color);\n",
              "    }\n",
              "    60% {\n",
              "      border-color: transparent;\n",
              "      border-right-color: var(--fill-color);\n",
              "    }\n",
              "    80% {\n",
              "      border-color: transparent;\n",
              "      border-right-color: var(--fill-color);\n",
              "      border-bottom-color: var(--fill-color);\n",
              "    }\n",
              "    90% {\n",
              "      border-color: transparent;\n",
              "      border-bottom-color: var(--fill-color);\n",
              "    }\n",
              "  }\n",
              "</style>\n",
              "\n",
              "      <script>\n",
              "        async function quickchart(key) {\n",
              "          const quickchartButtonEl =\n",
              "            document.querySelector('#' + key + ' button');\n",
              "          quickchartButtonEl.disabled = true;  // To prevent multiple clicks.\n",
              "          quickchartButtonEl.classList.add('colab-df-spinner');\n",
              "          try {\n",
              "            const charts = await google.colab.kernel.invokeFunction(\n",
              "                'suggestCharts', [key], {});\n",
              "          } catch (error) {\n",
              "            console.error('Error during call to suggestCharts:', error);\n",
              "          }\n",
              "          quickchartButtonEl.classList.remove('colab-df-spinner');\n",
              "          quickchartButtonEl.classList.add('colab-df-quickchart-complete');\n",
              "        }\n",
              "        (() => {\n",
              "          let quickchartButtonEl =\n",
              "            document.querySelector('#df-4510e32c-0148-4ab3-8a02-763e070e2d83 button');\n",
              "          quickchartButtonEl.style.display =\n",
              "            google.colab.kernel.accessAllowed ? 'block' : 'none';\n",
              "        })();\n",
              "      </script>\n",
              "    </div>\n",
              "\n",
              "    </div>\n",
              "  </div>\n"
            ],
            "application/vnd.google.colaboratory.intrinsic+json": {
              "type": "dataframe",
              "variable_name": "datos",
              "summary": "{\n  \"name\": \"datos\",\n  \"rows\": 54025,\n  \"fields\": [\n    {\n      \"column\": \"ingresos_cliente\",\n      \"properties\": {\n        \"dtype\": \"number\",\n        \"std\": 9658.762569130264,\n        \"min\": 2700.0,\n        \"max\": 450000.0,\n        \"num_unique_values\": 663,\n        \"samples\": [\n          11018.7,\n          38520.0,\n          17796.6\n        ],\n        \"semantic_type\": \"\",\n        \"description\": \"\"\n      }\n    },\n    {\n      \"column\": \"anualidad_prestamo\",\n      \"properties\": {\n        \"dtype\": \"number\",\n        \"std\": 1305.3647344874787,\n        \"min\": 218.7,\n        \"max\": 22500.0,\n        \"num_unique_values\": 8004,\n        \"samples\": [\n          5339.7,\n          5067.0,\n          5757.3\n        ],\n        \"semantic_type\": \"\",\n        \"description\": \"\"\n      }\n    },\n    {\n      \"column\": \"a\\u00f1os_casa_propia\",\n      \"properties\": {\n        \"dtype\": \"number\",\n        \"std\": 7.452120104984191,\n        \"min\": 0.0,\n        \"max\": 69.0,\n        \"num_unique_values\": 53,\n        \"samples\": [\n          11.0,\n          31.0,\n          32.0\n        ],\n        \"semantic_type\": \"\",\n        \"description\": \"\"\n      }\n    },\n    {\n      \"column\": \"telefono_trab\",\n      \"properties\": {\n        \"dtype\": \"number\",\n        \"std\": 0,\n        \"min\": 0,\n        \"max\": 1,\n        \"num_unique_values\": 2,\n        \"samples\": [\n          0,\n          1\n        ],\n        \"semantic_type\": \"\",\n        \"description\": \"\"\n      }\n    },\n    {\n      \"column\": \"evaluacion_ciudad\",\n      \"properties\": {\n        \"dtype\": \"number\",\n        \"std\": 0.49880682251877845,\n        \"min\": 1.0,\n        \"max\": 3.0,\n        \"num_unique_values\": 4,\n        \"samples\": [\n          3.0,\n          2.030038427084816\n        ],\n        \"semantic_type\": \"\",\n        \"description\": \"\"\n      }\n    },\n    {\n      \"column\": \"score_1\",\n      \"properties\": {\n        \"dtype\": \"number\",\n        \"std\": 0.14238945649917853,\n        \"min\": 0.014568132,\n        \"max\": 0.942680454,\n        \"num_unique_values\": 23062,\n        \"samples\": [\n          0.475611877,\n          0.435226091\n        ],\n        \"semantic_type\": \"\",\n        \"description\": \"\"\n      }\n    },\n    {\n      \"column\": \"score_2\",\n      \"properties\": {\n        \"dtype\": \"number\",\n        \"std\": 0.8759454878096079,\n        \"min\": 5e-06,\n        \"max\": 100.0,\n        \"num_unique_values\": 38047,\n        \"samples\": [\n          0.416306086,\n          0.675062411\n        ],\n        \"semantic_type\": \"\",\n        \"description\": \"\"\n      }\n    },\n    {\n      \"column\": \"score_3\",\n      \"properties\": {\n        \"dtype\": \"number\",\n        \"std\": 0.06272486372343226,\n        \"min\": 0.000527265,\n        \"max\": 0.869210801,\n        \"num_unique_values\": 612,\n        \"samples\": [\n          0.420610964,\n          0.168416171\n        ],\n        \"semantic_type\": \"\",\n        \"description\": \"\"\n      }\n    },\n    {\n      \"column\": \"score_social\",\n      \"properties\": {\n        \"dtype\": \"number\",\n        \"std\": 0.0761796573204536,\n        \"min\": 0.0,\n        \"max\": 1.0,\n        \"num_unique_values\": 1459,\n        \"samples\": [\n          0.1674,\n          0.6381\n        ],\n        \"semantic_type\": \"\",\n        \"description\": \"\"\n      }\n    },\n    {\n      \"column\": \"cambio_telefono\",\n      \"properties\": {\n        \"dtype\": \"number\",\n        \"std\": 818.1417090553241,\n        \"min\": 0.0,\n        \"max\": 4185.0,\n        \"num_unique_values\": 3408,\n        \"samples\": [\n          966.0,\n          3099.0\n        ],\n        \"semantic_type\": \"\",\n        \"description\": \"\"\n      }\n    },\n    {\n      \"column\": \"moroso\",\n      \"properties\": {\n        \"dtype\": \"number\",\n        \"std\": 0,\n        \"min\": 0,\n        \"max\": 1,\n        \"num_unique_values\": 2,\n        \"samples\": [\n          1,\n          0\n        ],\n        \"semantic_type\": \"\",\n        \"description\": \"\"\n      }\n    }\n  ]\n}"
            }
          },
          "metadata": {},
          "execution_count": 3
        }
      ]
    },
    {
      "cell_type": "code",
      "source": [
        "X = datos.drop('moroso', axis=1)\n",
        "y = datos['moroso']"
      ],
      "metadata": {
        "id": "MikoMXI7P4dG"
      },
      "execution_count": null,
      "outputs": []
    },
    {
      "cell_type": "code",
      "source": [
        "from sklearn.tree import DecisionTreeClassifier\n",
        "\n",
        "modelo = DecisionTreeClassifier()\n",
        "modelo.fit(X, y)\n",
        "modelo.score(X, y)"
      ],
      "metadata": {
        "colab": {
          "base_uri": "https://localhost:8080/"
        },
        "id": "WDl-B51dSS4S",
        "outputId": "079907e2-e3ac-4edc-ed57-bf90b5b96cf5"
      },
      "execution_count": null,
      "outputs": [
        {
          "output_type": "execute_result",
          "data": {
            "text/plain": [
              "1.0"
            ]
          },
          "metadata": {},
          "execution_count": 5
        }
      ]
    },
    {
      "cell_type": "code",
      "source": [
        "print (f'La exactitud del modelo es: {modelo.score(X,y)}')"
      ],
      "metadata": {
        "colab": {
          "base_uri": "https://localhost:8080/"
        },
        "id": "8vYAK7akS0Jo",
        "outputId": "80adb284-0843-435a-eda3-cdf0c8227f87"
      },
      "execution_count": null,
      "outputs": [
        {
          "output_type": "stream",
          "name": "stdout",
          "text": [
            "La exactitud del modelo es: 1.0\n"
          ]
        }
      ]
    },
    {
      "cell_type": "markdown",
      "source": [
        "### Validando el modelo"
      ],
      "metadata": {
        "id": "EPrFcm39oAof"
      }
    },
    {
      "cell_type": "markdown",
      "source": [
        "Evaluar el modelo con los mismos datos utilizados en el entrenamiento no es recomendable. Es necesario que la evaluación se realice con datos independientes.  \n",
        "\n",
        "Evaluar el modelo con los propios datos de entrenamiento sería equivalente a entregar un examen con las preguntas y las respuestas a una persona y, al momento de evaluarla nuevamente, entregarle un examen con las mismas preguntas y opciones. Se espera que esa persona obtenga un buen resultado, ya que ya ha visto las respuestas y ha memorizado el resultado. Esto es diferente de haber aprendido la materia a partir de ese examen y luego presentar una prueba con contenido similar y obtener un resultado positivo.  \n",
        "\n",
        "Con el objetivo de verificar la capacidad de generalización de un modelo, debemos dividir el conjunto de datos en tres partes: datos de entrenamiento, validación y prueba.  \n",
        "\n",
        "- El **conjunto de entrenamiento** se utiliza para entrenar los modelos. A partir de este conjunto, los modelos identifican patrones en los datos.  \n",
        "\n",
        "- El **conjunto de validación** se emplea para evaluar el desempeño de diferentes modelos con datos nuevos que no fueron utilizados en el entrenamiento.  \n",
        "\n",
        "- El **conjunto de prueba** se mantiene separado desde el inicio para simular datos del mundo real. No se utiliza en ninguna etapa del entrenamiento ni de la validación, sirviendo como una estimación de la capacidad del modelo elegido para generalizar y predecir nuevos datos."
      ],
      "metadata": {
        "id": "v0u-uij9eNcD"
      }
    },
    {
      "cell_type": "markdown",
      "source": [
        "<a href=\"https://ibb.co/9H2Z1HZ5\"><img src=\"https://i.ibb.co/0yZs6ysb/datos-train-test.png\" alt=\"datos-train-test\" border=\"0\"></a>"
      ],
      "metadata": {
        "id": "TCIN5oOJFk_W"
      }
    },
    {
      "cell_type": "code",
      "source": [
        "from sklearn.model_selection import train_test_split"
      ],
      "metadata": {
        "id": "OICJjv9HP1QZ"
      },
      "execution_count": null,
      "outputs": []
    },
    {
      "cell_type": "code",
      "source": [
        "X, X_test, y, y_test = train_test_split(X, y, test_size=0.15,stratify=y , random_state=5)\n",
        "X_train, X_val, y_train, y_val = train_test_split(X, y, stratify=y , random_state=5)"
      ],
      "metadata": {
        "id": "mvDcVFFDP1sB"
      },
      "execution_count": null,
      "outputs": []
    },
    {
      "cell_type": "markdown",
      "source": [],
      "metadata": {
        "id": "Ihc30AuHBHHy"
      }
    },
    {
      "cell_type": "code",
      "source": [
        "modelo = DecisionTreeClassifier()\n",
        "modelo.fit(X_train, y_train)\n",
        "print (f'La exactitud del modelo con el conjunto de entrenamiento es de: {modelo.score(X_train, y_train)}')\n",
        "print (f'La exactitud del modelo con el conjunto de validación es de: {modelo.score(X_val, y_val)}')"
      ],
      "metadata": {
        "id": "sEJPwwG_P1Md",
        "colab": {
          "base_uri": "https://localhost:8080/"
        },
        "outputId": "21bd7dca-edc7-4c9a-a41c-f0fe16f99e5f"
      },
      "execution_count": null,
      "outputs": [
        {
          "output_type": "stream",
          "name": "stdout",
          "text": [
            "La exactitud del modelo con el conjunto de entrenamiento es de: 1.0\n",
            "La exactitud del modelo con el conjunto de validación es de: 0.8499259646372267\n"
          ]
        }
      ]
    },
    {
      "cell_type": "code",
      "source": [
        "modelo = DecisionTreeClassifier(max_depth=10)\n",
        "modelo.fit(X_train, y_train)\n",
        "print (f'La exactitud del modelo con el conjunto de entrenamiento es de: {modelo.score(X_train, y_train)}')\n",
        "print (f'La exactitud del modelo con el conjunto de validación es de: {modelo.score(X_val, y_val)}')"
      ],
      "metadata": {
        "id": "NIeGQZGcP1J1",
        "colab": {
          "base_uri": "https://localhost:8080/"
        },
        "outputId": "5d233acb-bd07-4b82-801a-b976ccff32ed"
      },
      "execution_count": null,
      "outputs": [
        {
          "output_type": "stream",
          "name": "stdout",
          "text": [
            "La exactitud del modelo con el conjunto de entrenamiento es de: 0.9205574912891986\n",
            "La exactitud del modelo con el conjunto de validación es de: 0.9058444386377493\n"
          ]
        }
      ]
    },
    {
      "cell_type": "markdown",
      "source": [
        "### Evaluando el modelo"
      ],
      "metadata": {
        "id": "WtlRAZt96VLG"
      }
    },
    {
      "cell_type": "code",
      "source": [
        "from sklearn.metrics import confusion_matrix"
      ],
      "metadata": {
        "id": "IlUZBhPrPyYh"
      },
      "execution_count": null,
      "outputs": []
    },
    {
      "cell_type": "code",
      "source": [
        "y_previsto = modelo.predict(X_val)\n",
        "matriz_confusion = confusion_matrix(y_val, y_previsto)\n",
        "print(matriz_confusion)"
      ],
      "metadata": {
        "id": "iill3u5HPyOA",
        "colab": {
          "base_uri": "https://localhost:8080/"
        },
        "outputId": "cfb2e16c-c033-4040-d638-fe619e966961"
      },
      "execution_count": null,
      "outputs": [
        {
          "output_type": "stream",
          "name": "stdout",
          "text": [
            "[[10358   121]\n",
            " [  960    42]]\n"
          ]
        }
      ]
    },
    {
      "cell_type": "code",
      "source": [
        "from sklearn.metrics import ConfusionMatrixDisplay"
      ],
      "metadata": {
        "id": "gtFWt6emPyJt"
      },
      "execution_count": null,
      "outputs": []
    },
    {
      "cell_type": "code",
      "source": [
        "visualizacion = ConfusionMatrixDisplay(confusion_matrix =matriz_confusion)\n",
        "visualizacion.plot()"
      ],
      "metadata": {
        "id": "qg0OgZeqPyGJ",
        "colab": {
          "base_uri": "https://localhost:8080/",
          "height": 466
        },
        "outputId": "c0cf4d46-08a7-4767-e237-f9aa0b087a2c"
      },
      "execution_count": null,
      "outputs": [
        {
          "output_type": "execute_result",
          "data": {
            "text/plain": [
              "<sklearn.metrics._plot.confusion_matrix.ConfusionMatrixDisplay at 0x7a4144ae80d0>"
            ]
          },
          "metadata": {},
          "execution_count": 14
        },
        {
          "output_type": "display_data",
          "data": {
            "text/plain": [
              "<Figure size 640x480 with 2 Axes>"
            ],
            "image/png": "[encoded data removed]"
          },
          "metadata": {}
        }
      ]
    },
    {
      "cell_type": "code",
      "source": [
        "visualizacion = ConfusionMatrixDisplay(confusion_matrix = matriz_confusion, display_labels=['Cumplido', 'Moroso'])\n",
        "visualizacion.plot()"
      ],
      "metadata": {
        "colab": {
          "base_uri": "https://localhost:8080/",
          "height": 466
        },
        "id": "RLMbIHAKCyVZ",
        "outputId": "d56811b6-6bc7-43c5-8f53-33db378f2120"
      },
      "execution_count": null,
      "outputs": [
        {
          "output_type": "execute_result",
          "data": {
            "text/plain": [
              "<sklearn.metrics._plot.confusion_matrix.ConfusionMatrixDisplay at 0x7a4145bc2cd0>"
            ]
          },
          "metadata": {},
          "execution_count": 15
        },
        {
          "output_type": "display_data",
          "data": {
            "text/plain": [
              "<Figure size 640x480 with 2 Axes>"
            ],
            "image/png": "[encoded data removed]"
          },
          "metadata": {}
        }
      ]
    },
    {
      "cell_type": "code",
      "source": [],
      "metadata": {
        "id": "uNwq6LmHDaki"
      },
      "execution_count": null,
      "outputs": []
    },
    {
      "cell_type": "markdown",
      "source": [
        "## <font color='dark'>Métricas de evaluación</h1>"
      ],
      "metadata": {
        "id": "tPogL-24ntSH"
      }
    },
    {
      "cell_type": "markdown",
      "source": [
        "### Exactitud, precisión y recall\n",
        "\n",
        "1.   Elemento de lista\n",
        "2.   Elemento de lista\n",
        "\n",
        "(sensibilidad)."
      ],
      "metadata": {
        "id": "nP1WfyyR6XMl"
      }
    },
    {
      "cell_type": "markdown",
      "source": [
        "<a href=\"https://ibb.co/351SbY7t\"><img src=\"https://i.ibb.co/wZypqrRD/matriz-confusion.png\" alt=\"matriz-confusion\" border=\"0\"></a>"
      ],
      "metadata": {
        "id": "oE8N0NqoH6hy"
      }
    },
    {
      "cell_type": "markdown",
      "source": [
        "<a href=\"https://imgbb.com/\"><img src=\"https://i.ibb.co/6Jp6rKyC/Captura-de-tela-2025-03-22-120744.png\" alt=\"Captura-de-tela-2025-03-22-120744\" border=\"0\"></a>"
      ],
      "metadata": {
        "id": "k0ldCSgoZiPX"
      }
    },
    {
      "cell_type": "code",
      "source": [
        "from sklearn.metrics import accuracy_score, precision_score, recall_score, f1_score"
      ],
      "metadata": {
        "id": "IIEaf2fmPmq1"
      },
      "execution_count": null,
      "outputs": []
    },
    {
      "cell_type": "code",
      "source": [
        "45/(45+123) #precision"
      ],
      "metadata": {
        "id": "QnGxEIrWPmbx",
        "colab": {
          "base_uri": "https://localhost:8080/"
        },
        "outputId": "60e0b43b-74d7-4020-8086-21eff45841b4"
      },
      "execution_count": null,
      "outputs": [
        {
          "output_type": "execute_result",
          "data": {
            "text/plain": [
              "0.26785714285714285"
            ]
          },
          "metadata": {},
          "execution_count": 17
        }
      ]
    },
    {
      "cell_type": "code",
      "source": [
        "print (f'La precsición del modelo es: {precision_score(y_val, y_previsto)}')\n",
        "print (f'La sensibilidad (Recall ) del modelo es: {recall_score(y_val, y_previsto)}')\n",
        "print (f'La exactitud (accuracy ) del modelo es: {accuracy_score(y_val, y_previsto)}')"
      ],
      "metadata": {
        "id": "7C7NoVZnPmX1",
        "colab": {
          "base_uri": "https://localhost:8080/"
        },
        "outputId": "8eb4ea9b-3af6-417b-b05e-3fe3cc7eb867"
      },
      "execution_count": null,
      "outputs": [
        {
          "output_type": "stream",
          "name": "stdout",
          "text": [
            "La precsición del modelo es: 0.25766871165644173\n",
            "La sensibilidad (Recall ) del modelo es: 0.041916167664670656\n",
            "La exactitud (accuracy ) del modelo es: 0.9058444386377493\n"
          ]
        }
      ]
    },
    {
      "cell_type": "markdown",
      "source": [
        "necesitamos disminuir el error tipo 2\n",
        "![image.png](data:image/png;base64,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)"
      ],
      "metadata": {
        "id": "jMizlt00Xedk"
      }
    },
    {
      "cell_type": "code",
      "source": [
        "print (f'El F1-score del modelo es: {f1_score(y_val, y_previsto)}')"
      ],
      "metadata": {
        "id": "u2SqICFJPmU-",
        "colab": {
          "base_uri": "https://localhost:8080/"
        },
        "outputId": "ab48c3c5-2e7c-4f1f-f7b6-1e0e97ad8403"
      },
      "execution_count": null,
      "outputs": [
        {
          "output_type": "stream",
          "name": "stdout",
          "text": [
            "El F1-score del modelo es: 0.07210300429184549\n"
          ]
        }
      ]
    },
    {
      "cell_type": "markdown",
      "source": [
        "### Curva ROC"
      ],
      "metadata": {
        "id": "I8ELhexg2jNx"
      }
    },
    {
      "cell_type": "code",
      "source": [
        "from IPython.display import Image\n",
        "Image(url='https://raw.githubusercontent.com/dariyasydykova/open_projects/master/ROC_animation/animations/cutoff.gif')"
      ],
      "metadata": {
        "colab": {
          "base_uri": "https://localhost:8080/",
          "height": 442
        },
        "id": "PhUNE4Xm4MII",
        "outputId": "8ff6bc36-2b0d-4196-f306-118593d2de4f"
      },
      "execution_count": null,
      "outputs": [
        {
          "output_type": "execute_result",
          "data": {
            "text/html": [
              "<img src=\"https://raw.githubusercontent.com/dariyasydykova/open_projects/master/ROC_animation/animations/cutoff.gif\"/>"
            ],
            "text/plain": [
              "<IPython.core.display.Image object>"
            ]
          },
          "metadata": {},
          "execution_count": 20
        }
      ]
    },
    {
      "cell_type": "markdown",
      "source": [
        "Fuente: [paulvanderlaken.com](https://paulvanderlaken.com/2019/08/16/roc-auc-precision-and-recall-visually-explained/)\n",
        "\n",
        "\n"
      ],
      "metadata": {
        "id": "XK8_7Ruy32BT"
      }
    },
    {
      "cell_type": "code",
      "source": [
        "from sklearn.metrics import RocCurveDisplay"
      ],
      "metadata": {
        "id": "FHc-8FjePhM6"
      },
      "execution_count": null,
      "outputs": []
    },
    {
      "cell_type": "code",
      "source": [
        "RocCurveDisplay.from_predictions(y_val, y_previsto, name ='Arbol de Decisión')"
      ],
      "metadata": {
        "id": "V6Ua2rY3PhFt",
        "colab": {
          "base_uri": "https://localhost:8080/",
          "height": 468
        },
        "outputId": "9621f164-414c-4e8a-96ea-c691be7f96fc"
      },
      "execution_count": null,
      "outputs": [
        {
          "output_type": "execute_result",
          "data": {
            "text/plain": [
              "<sklearn.metrics._plot.roc_curve.RocCurveDisplay at 0x7a413f084a10>"
            ]
          },
          "metadata": {},
          "execution_count": 24
        },
        {
          "output_type": "display_data",
          "data": {
            "text/plain": [
              "<Figure size 640x480 with 1 Axes>"
            ],
            "image/png": "[encoded data removed]"
          },
          "metadata": {}
        }
      ]
    },
    {
      "cell_type": "markdown",
      "source": [
        "el modelo no sirve"
      ],
      "metadata": {
        "id": "3csabCqxaSJS"
      }
    },
    {
      "cell_type": "code",
      "source": [
        "from sklearn.metrics import roc_auc_score"
      ],
      "metadata": {
        "id": "LJE-yyWMPg8R"
      },
      "execution_count": null,
      "outputs": []
    },
    {
      "cell_type": "code",
      "source": [
        "print(f'El área bajo la curva ROC es:{roc_auc_score(y_val, y_previsto)} ')"
      ],
      "metadata": {
        "id": "7mtvjPHsPi1o",
        "colab": {
          "base_uri": "https://localhost:8080/"
        },
        "outputId": "88ab1619-e2d1-48f1-ce31-1f3de7744297"
      },
      "execution_count": null,
      "outputs": [
        {
          "output_type": "stream",
          "name": "stdout",
          "text": [
            "El área bajo la curva ROC es:0.5151846321671001 \n"
          ]
        }
      ]
    },
    {
      "cell_type": "markdown",
      "source": [
        "### Curva de  precisión x sensibilidad"
      ],
      "metadata": {
        "id": "IztSEZfh7QFe"
      }
    },
    {
      "cell_type": "code",
      "source": [
        "Image(url='https://paulvanderlaken.com/wp-content/uploads/2019/08/roc.gif')"
      ],
      "metadata": {
        "colab": {
          "base_uri": "https://localhost:8080/",
          "height": 442
        },
        "id": "EJzfjuxa3fxD",
        "outputId": "7e521f75-b145-4eac-9ad9-da930cd13e63"
      },
      "execution_count": null,
      "outputs": [
        {
          "output_type": "execute_result",
          "data": {
            "text/html": [
              "<img src=\"https://paulvanderlaken.com/wp-content/uploads/2019/08/roc.gif\"/>"
            ],
            "text/plain": [
              "<IPython.core.display.Image object>"
            ]
          },
          "metadata": {},
          "execution_count": 21
        }
      ]
    },
    {
      "cell_type": "markdown",
      "source": [
        "Fuente: [paulvanderlaken.com](https://paulvanderlaken.com/2019/08/16/roc-auc-precision-and-recall-visually-explained/)\n"
      ],
      "metadata": {
        "id": "bUoGCSUB4msC"
      }
    },
    {
      "cell_type": "code",
      "source": [
        "from sklearn.metrics import PrecisionRecallDisplay"
      ],
      "metadata": {
        "id": "7t20ira6Pcds"
      },
      "execution_count": null,
      "outputs": []
    },
    {
      "cell_type": "code",
      "source": [
        "PrecisionRecallDisplay.from_predictions(y_val, y_previsto, name ='Arbol de Decisión')"
      ],
      "metadata": {
        "id": "Drs3Z6RTPcTc",
        "colab": {
          "base_uri": "https://localhost:8080/",
          "height": 486
        },
        "outputId": "7cf20489-daef-4c9e-d6b9-754f4ea0a1d1"
      },
      "execution_count": null,
      "outputs": [
        {
          "output_type": "execute_result",
          "data": {
            "text/plain": [
              "<sklearn.metrics._plot.precision_recall_curve.PrecisionRecallDisplay at 0x7a413e8cc850>"
            ]
          },
          "metadata": {},
          "execution_count": 28
        },
        {
          "output_type": "display_data",
          "data": {
            "text/plain": [
              "<Figure size 640x480 with 1 Axes>"
            ],
            "image/png": "[encoded data removed]"
          },
          "metadata": {}
        }
      ]
    },
    {
      "cell_type": "markdown",
      "source": [
        "lo ideal es que quede en 1, 0.1 es deficiente"
      ],
      "metadata": {
        "id": "7JHlkPQJfJB2"
      }
    },
    {
      "cell_type": "code",
      "source": [
        "from sklearn.metrics import average_precision_score"
      ],
      "metadata": {
        "id": "DmhO5H5cPcOp"
      },
      "execution_count": null,
      "outputs": []
    },
    {
      "cell_type": "code",
      "source": [
        "print(f'El área bajo la curva de precisión vs recall es:{average_precision_score(y_val, y_previsto)} ')"
      ],
      "metadata": {
        "id": "SS08sHDkPeaG",
        "colab": {
          "base_uri": "https://localhost:8080/"
        },
        "outputId": "8406a553-7ae2-4556-85ad-098021921832"
      },
      "execution_count": null,
      "outputs": [
        {
          "output_type": "stream",
          "name": "stdout",
          "text": [
            "El área bajo la curva de precisión vs recall es:0.09441689464013872 \n"
          ]
        }
      ]
    },
    {
      "cell_type": "markdown",
      "source": [
        "### Informe de métricas"
      ],
      "metadata": {
        "id": "Bm2E6GEJDJLH"
      }
    },
    {
      "cell_type": "code",
      "source": [
        "from sklearn.metrics import classification_report"
      ],
      "metadata": {
        "id": "e9QPj9ivhXnr"
      },
      "execution_count": null,
      "outputs": []
    },
    {
      "cell_type": "code",
      "source": [
        "print(classification_report(y_val, y_previsto))"
      ],
      "metadata": {
        "colab": {
          "base_uri": "https://localhost:8080/"
        },
        "id": "z2SRaioThXgc",
        "outputId": "904b5e4b-47e9-459d-fce1-510d7e8c6ddc"
      },
      "execution_count": null,
      "outputs": [
        {
          "output_type": "stream",
          "name": "stdout",
          "text": [
            "              precision    recall  f1-score   support\n",
            "\n",
            "           0       0.92      0.99      0.95     10479\n",
            "           1       0.26      0.04      0.07      1002\n",
            "\n",
            "    accuracy                           0.91     11481\n",
            "   macro avg       0.59      0.52      0.51     11481\n",
            "weighted avg       0.86      0.91      0.87     11481\n",
            "\n"
          ]
        }
      ]
    },
    {
      "cell_type": "markdown",
      "source": [
        "0: clientes cunplidos\n",
        "1:morosos\n",
        "\n",
        "la clase de morosos de por si no está soportada por muchos datos y pues la calse esta devalanceada y los datos que nos arroje van a estar todos mal\n",
        "\n",
        "modelo no identificó bien a los morosos"
      ],
      "metadata": {
        "id": "Hy8MZmkphk9r"
      }
    },
    {
      "cell_type": "code",
      "source": [],
      "metadata": {
        "id": "pnN6QRlYPZQR"
      },
      "execution_count": null,
      "outputs": []
    },
    {
      "cell_type": "markdown",
      "source": [
        "## <font color='dark'> Validación cruzada</h1>"
      ],
      "metadata": {
        "id": "SuxCy_oZZQxE"
      }
    },
    {
      "cell_type": "markdown",
      "source": [
        "### Usando KFold"
      ],
      "metadata": {
        "id": "17q2T0iRnzSg"
      }
    },
    {
      "cell_type": "markdown",
      "source": [
        "La validación del modelo de clasificación a partir de la separación de los datos en conjuntos de entrenamiento y validación hace que el resultado dependa en gran medida de esta división. Puede suceder que, de forma aleatoria, el patrón de los datos de validación sea diferente al de los datos de entrenamiento, lo que podría llevar a obtener un resultado mucho mejor o mucho peor que la realidad simplemente por suerte o mala suerte.  \n",
        "\n",
        "Teniendo esto en cuenta, es posible utilizar la **validación cruzada**, una estrategia más consistente y ampliamente utilizada en proyectos de *machine learning*.  \n",
        "\n",
        "En la validación cruzada, en lugar de separar los datos en entrenamiento y validación una sola vez, se dividen en varias partes de igual tamaño. En cada una de estas divisiones, se usa una parte para validación y todas las demás para entrenamiento. Este proceso se repite hasta que todas las partes hayan sido utilizadas tanto para validación como para entrenamiento.  \n",
        "\n",
        "Se generará un modelo para cada una de estas divisiones y la evaluación del desempeño se realizará promediando la métrica de cada modelo. Esto elimina la dependencia de la separación de los datos, ya que hay una mayor variación en la selección de los mismos y se obtiene un valor medio.  \n",
        "\n",
        "Generalmente, se utilizan 5 o 10 partes. Un número mayor no suele ser necesario, ya que implica un procesamiento más costoso, y valores menores ya ayudan a mitigar el problema de la selección de los datos."
      ],
      "metadata": {
        "id": "zjfYnDWJ6C2A"
      }
    },
    {
      "cell_type": "markdown",
      "source": [
        "<a href=\"https://ibb.co/KcBtshJR\"><img src=\"https://i.ibb.co/nq4X1mFZ/train-y-validacion.png\" alt=\"train-y-validacion\" border=\"0\"></a>"
      ],
      "metadata": {
        "id": "oSboV-QNMG__"
      }
    },
    {
      "cell_type": "code",
      "source": [
        "from sklearn.model_selection import KFold, cross_validate"
      ],
      "metadata": {
        "id": "TU8HYdzmPI7P"
      },
      "execution_count": null,
      "outputs": []
    },
    {
      "cell_type": "code",
      "source": [
        "modelo = DecisionTreeClassifier(max_depth=10)\n",
        "kf= KFold(n_splits=10, shuffle=True, random_state=5)\n",
        "cv_resultados = cross_validate(modelo, X, y, cv=kf)\n",
        "cv_resultados"
      ],
      "metadata": {
        "id": "McSadnzDPI4G",
        "colab": {
          "base_uri": "https://localhost:8080/"
        },
        "outputId": "3ca72471-baa6-4546-9a0f-cf40dc4e7476"
      },
      "execution_count": null,
      "outputs": [
        {
          "output_type": "execute_result",
          "data": {
            "text/plain": [
              "{'fit_time': array([0.34085608, 0.3260088 , 0.32232904, 0.33348775, 0.42592573,\n",
              "        0.4711349 , 0.47505903, 0.46152639, 0.46658754, 0.45818138]),\n",
              " 'score_time': array([0.00315619, 0.00304008, 0.00308084, 0.00337195, 0.00555968,\n",
              "        0.00501323, 0.00486612, 0.00405097, 0.00438094, 0.00579071]),\n",
              " 'test_score': array([0.90986283, 0.91506969, 0.90744774, 0.90940767, 0.90091463,\n",
              "        0.91223868, 0.91180314, 0.91463415, 0.90243902, 0.89699477])}"
            ]
          },
          "metadata": {},
          "execution_count": 36
        }
      ]
    },
    {
      "cell_type": "code",
      "source": [
        "cv_resultados['test_score']"
      ],
      "metadata": {
        "id": "o5oZ8-lhPIy_",
        "colab": {
          "base_uri": "https://localhost:8080/"
        },
        "outputId": "0e2676e4-2f83-4bd4-b1bf-d47a9705c2c2"
      },
      "execution_count": null,
      "outputs": [
        {
          "output_type": "execute_result",
          "data": {
            "text/plain": [
              "array([0.90986283, 0.91506969, 0.90744774, 0.90940767, 0.90091463,\n",
              "       0.91223868, 0.91180314, 0.91463415, 0.90243902, 0.89699477])"
            ]
          },
          "metadata": {},
          "execution_count": 37
        }
      ]
    },
    {
      "cell_type": "code",
      "source": [
        "promedio= cv_resultados['test_score'].mean()\n",
        "desvio_std= cv_resultados['test_score'].std()\n",
        "\n",
        "print(f'El promedio de la exactitud es de: {promedio}')\n",
        "print(f'El desvío típico es de: {desvio_std}')\n",
        "print(f'El intervalo de confianza es de: [{promedio-2*desvio_std}, {min(promedio + 2*desvio_std, 1)}]')\n"
      ],
      "metadata": {
        "colab": {
          "base_uri": "https://localhost:8080/"
        },
        "id": "mnalzalrpYP0",
        "outputId": "21d2267c-b4a6-48c3-ed8a-55e5ad935b0f"
      },
      "execution_count": null,
      "outputs": [
        {
          "output_type": "stream",
          "name": "stdout",
          "text": [
            "El promedio de la exactitud es de: 0.9080812312100447\n",
            "El desvío típico es de: 0.005782344989729615\n",
            "El intervalo de confianza es de: [0.8965165412305854, 0.919645921189504]\n"
          ]
        }
      ]
    },
    {
      "cell_type": "markdown",
      "source": [
        "en este modelo solo estamos evaluando la exactitud, pero la métrica que queremos mejorar es el recall\n",
        "Y Mantener el valor de verdaderos positivos lo más alto posible para reducir el modelo tipo 2"
      ],
      "metadata": {
        "id": "abJOUAAbrcbh"
      }
    },
    {
      "cell_type": "code",
      "source": [],
      "metadata": {
        "id": "shfJz7gGpX9b"
      },
      "execution_count": null,
      "outputs": []
    },
    {
      "cell_type": "markdown",
      "source": [
        "### Validación cruzada con sensibilidad"
      ],
      "metadata": {
        "id": "GAHrtLM2OCjO"
      }
    },
    {
      "cell_type": "code",
      "source": [
        "def intervalo_confianza(resultados):\n",
        "  promedio= cv_resultados['test_score'].mean()\n",
        "  desvio_std= cv_resultados['test_score'].std()\n",
        "  return (f'El intervalo de confianza es de: [{promedio-2*desvio_std}, {min(promedio + 2*desvio_std, 1)}]')\n"
      ],
      "metadata": {
        "id": "Ywfsoe3_PLYZ"
      },
      "execution_count": null,
      "outputs": []
    },
    {
      "cell_type": "code",
      "source": [
        "modelo = DecisionTreeClassifier(max_depth=10)\n",
        "kf= KFold(n_splits=5, shuffle=True, random_state=5)\n",
        "cv_resultados = cross_validate(modelo, X, y, cv=kf, scoring='recall')\n",
        "cv_resultados"
      ],
      "metadata": {
        "id": "PV3m-6IxPLMf",
        "colab": {
          "base_uri": "https://localhost:8080/"
        },
        "outputId": "16cd2c67-d29b-4550-f34e-0a51235806e2"
      },
      "execution_count": null,
      "outputs": [
        {
          "output_type": "execute_result",
          "data": {
            "text/plain": [
              "{'fit_time': array([0.29904246, 0.28897762, 0.30029726, 0.29045129, 0.28842068]),\n",
              " 'score_time': array([0.00636244, 0.0064199 , 0.00664926, 0.00673604, 0.00707889]),\n",
              " 'test_score': array([0.02774108, 0.01980198, 0.0196802 , 0.01697128, 0.02427746])}"
            ]
          },
          "metadata": {},
          "execution_count": 52
        }
      ]
    },
    {
      "cell_type": "code",
      "source": [
        "intervalo_confianza(cv_resultados)"
      ],
      "metadata": {
        "id": "Y-gpgU7pPLJv",
        "colab": {
          "base_uri": "https://localhost:8080/",
          "height": 36
        },
        "outputId": "363b7360-1f6a-4995-9df7-f40ca984cd31"
      },
      "execution_count": null,
      "outputs": [
        {
          "output_type": "execute_result",
          "data": {
            "text/plain": [
              "'El intervalo de confianza es de: [0.014042957798741866, 0.029345840698859926]'"
            ],
            "application/vnd.google.colaboratory.intrinsic+json": {
              "type": "string"
            }
          },
          "metadata": {},
          "execution_count": 53
        }
      ]
    },
    {
      "cell_type": "markdown",
      "source": [
        "### Estratificando los datos"
      ],
      "metadata": {
        "id": "-FAOYtNen4qJ"
      }
    },
    {
      "cell_type": "code",
      "source": [
        "datos['moroso'].value_counts()"
      ],
      "metadata": {
        "id": "G6bPA6vaPN1A",
        "colab": {
          "base_uri": "https://localhost:8080/",
          "height": 178
        },
        "outputId": "8b6dce45-632d-40ac-d9dd-329c65a8945e"
      },
      "execution_count": null,
      "outputs": [
        {
          "output_type": "execute_result",
          "data": {
            "text/plain": [
              "moroso\n",
              "0    49309\n",
              "1     4716\n",
              "Name: count, dtype: int64"
            ],
            "text/html": [
              "<div>\n",
              "<style scoped>\n",
              "    .dataframe tbody tr th:only-of-type {\n",
              "        vertical-align: middle;\n",
              "    }\n",
              "\n",
              "    .dataframe tbody tr th {\n",
              "        vertical-align: top;\n",
              "    }\n",
              "\n",
              "    .dataframe thead th {\n",
              "        text-align: right;\n",
              "    }\n",
              "</style>\n",
              "<table border=\"1\" class=\"dataframe\">\n",
              "  <thead>\n",
              "    <tr style=\"text-align: right;\">\n",
              "      <th></th>\n",
              "      <th>count</th>\n",
              "    </tr>\n",
              "    <tr>\n",
              "      <th>moroso</th>\n",
              "      <th></th>\n",
              "    </tr>\n",
              "  </thead>\n",
              "  <tbody>\n",
              "    <tr>\n",
              "      <th>0</th>\n",
              "      <td>49309</td>\n",
              "    </tr>\n",
              "    <tr>\n",
              "      <th>1</th>\n",
              "      <td>4716</td>\n",
              "    </tr>\n",
              "  </tbody>\n",
              "</table>\n",
              "</div><br><label><b>dtype:</b> int64</label>"
            ]
          },
          "metadata": {},
          "execution_count": 48
        }
      ]
    },
    {
      "cell_type": "markdown",
      "source": [
        "esta muy desequilibrado el df\n",
        " y al hacer el splt no nos aseguramos de que se mantuviera la propoerción de muestras\n"
      ],
      "metadata": {
        "id": "9Yxq3oJv0Nqv"
      }
    },
    {
      "cell_type": "code",
      "source": [
        "from sklearn.model_selection import StratifiedGroupKFold"
      ],
      "metadata": {
        "id": "6idgQDO20Nb3"
      },
      "execution_count": null,
      "outputs": []
    },
    {
      "cell_type": "code",
      "source": [
        "modelo = DecisionTreeClassifier(max_depth=10)\n",
        "skf= StratifiedKFold(n_splits=5, shuffle=True, random_state=5)\n",
        "cv_resultados = cross_validate(modelo, X, y, cv=skf, scoring='recall')\n",
        "cv_resultados"
      ],
      "metadata": {
        "id": "HONIpY1BPNzd",
        "colab": {
          "base_uri": "https://localhost:8080/"
        },
        "outputId": "b3701b26-9193-4679-fa40-c920d2e5a6f4"
      },
      "execution_count": null,
      "outputs": [
        {
          "output_type": "execute_result",
          "data": {
            "text/plain": [
              "{'fit_time': array([0.28297687, 0.36347294, 0.39461923, 0.40014505, 0.41002393]),\n",
              " 'score_time': array([0.00798225, 0.00883055, 0.00972891, 0.00881815, 0.00937247]),\n",
              " 'test_score': array([0.03865337, 0.02871411, 0.02743142, 0.02493766, 0.02493766])}"
            ]
          },
          "metadata": {},
          "execution_count": 61
        }
      ]
    },
    {
      "cell_type": "code",
      "source": [
        "intervalo_confianza(cv_resultados)"
      ],
      "metadata": {
        "id": "jCFRBhd_PNxT",
        "colab": {
          "base_uri": "https://localhost:8080/",
          "height": 36
        },
        "outputId": "f710d2ca-1720-43d1-dd22-b9e97ee70419"
      },
      "execution_count": null,
      "outputs": [
        {
          "output_type": "execute_result",
          "data": {
            "text/plain": [
              "'El intervalo de confianza es de: [0.018787380212095507, 0.039082302634470975]'"
            ],
            "application/vnd.google.colaboratory.intrinsic+json": {
              "type": "string"
            }
          },
          "metadata": {},
          "execution_count": 62
        }
      ]
    },
    {
      "cell_type": "markdown",
      "source": [
        "es un conjunto de datos desequilibrado\n",
        "\n",
        "\n",
        "\n"
      ],
      "metadata": {
        "id": "BFVUG4UX2H_1"
      }
    },
    {
      "cell_type": "code",
      "source": [],
      "metadata": {
        "id": "tpPSOMR528HW"
      },
      "execution_count": null,
      "outputs": []
    },
    {
      "cell_type": "markdown",
      "source": [
        "## <font color='dark'>Balanceo de los datos</h1>"
      ],
      "metadata": {
        "id": "yaVwNb1kn8sX"
      }
    },
    {
      "cell_type": "code",
      "source": [],
      "metadata": {
        "id": "ebKlzebR23Ct"
      },
      "execution_count": null,
      "outputs": []
    },
    {
      "cell_type": "markdown",
      "source": [
        "### Oversampling"
      ],
      "metadata": {
        "id": "4eYKxWJd6g6w"
      }
    },
    {
      "cell_type": "markdown",
      "source": [
        "https://imbalanced-learn.org/stable/references/generated/imblearn.over_sampling.SMOTE.html#id1"
      ],
      "metadata": {
        "id": "N0MJ7hGUmL4l"
      }
    },
    {
      "cell_type": "code",
      "source": [],
      "metadata": {
        "id": "cO0Dx5xAO4B5"
      },
      "execution_count": null,
      "outputs": []
    },
    {
      "cell_type": "code",
      "source": [],
      "metadata": {
        "id": "h6DQqcttO3_c"
      },
      "execution_count": null,
      "outputs": []
    },
    {
      "cell_type": "code",
      "source": [],
      "metadata": {
        "id": "7Lp4GoMRO355"
      },
      "execution_count": null,
      "outputs": []
    },
    {
      "cell_type": "markdown",
      "source": [
        "### Pipeline para validación"
      ],
      "metadata": {
        "id": "fHSNXznm6ia-"
      }
    },
    {
      "cell_type": "code",
      "source": [],
      "metadata": {
        "id": "DaoAbR84O44S"
      },
      "execution_count": null,
      "outputs": []
    },
    {
      "cell_type": "code",
      "source": [],
      "metadata": {
        "id": "7UezUduWO41c"
      },
      "execution_count": null,
      "outputs": []
    },
    {
      "cell_type": "code",
      "source": [],
      "metadata": {
        "id": "b7Z-pe6wO4yN"
      },
      "execution_count": null,
      "outputs": []
    },
    {
      "cell_type": "markdown",
      "source": [
        "### Undersampling"
      ],
      "metadata": {
        "id": "66PlvwjX6kFv"
      }
    },
    {
      "cell_type": "markdown",
      "source": [
        "https://imbalanced-learn.org/stable/references/generated/imblearn.under_sampling.NearMiss.html"
      ],
      "metadata": {
        "id": "Fh6VZN5Fx7wl"
      }
    },
    {
      "cell_type": "code",
      "source": [],
      "metadata": {
        "id": "lUn59uqAO63N"
      },
      "execution_count": null,
      "outputs": []
    },
    {
      "cell_type": "code",
      "source": [],
      "metadata": {
        "id": "pOUKHwqRO6zb"
      },
      "execution_count": null,
      "outputs": []
    },
    {
      "cell_type": "code",
      "source": [],
      "metadata": {
        "id": "ykn9H4kFO6so"
      },
      "execution_count": null,
      "outputs": []
    },
    {
      "cell_type": "markdown",
      "source": [
        "### Probando el modelo"
      ],
      "metadata": {
        "id": "EP-44U0eHt-a"
      }
    },
    {
      "cell_type": "code",
      "source": [],
      "metadata": {
        "id": "XWhZlwOTO8eN"
      },
      "execution_count": null,
      "outputs": []
    },
    {
      "cell_type": "code",
      "source": [],
      "metadata": {
        "id": "gZHVqM6hO8bt"
      },
      "execution_count": null,
      "outputs": []
    },
    {
      "cell_type": "code",
      "source": [],
      "metadata": {
        "id": "QSrpOQpxO8WT"
      },
      "execution_count": null,
      "outputs": []
    }
  ]
}